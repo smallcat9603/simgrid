{
 "cells": [
  {
   "cell_type": "markdown",
   "metadata": {},
   "source": [
    "# script to graph opentuner log"
   ]
  },
  {
   "cell_type": "code",
   "execution_count": 34,
   "metadata": {},
   "outputs": [],
   "source": [
    "import matplotlib.pyplot as plt\n",
    "from matplotlib import style\n",
    "style.use('fivethirtyeight')\n",
    "import pandas as pd\n",
    "import numpy as np\n",
    "\n",
    "# graph exec time vs. time in log file (--results-log-details)\n",
    "def graph_log(log_name):\n",
    "    data = pd.read_csv(log_name, sep=\" \", names=[\"wallclock\", \"exectime\"])\n",
    "    plt.plot(data[\"wallclock\"], data[\"exectime\"], '-+', label='tuned', linewidth=1)\n",
    "    plt.xlabel(\"Tuning Time (s)\")\n",
    "    plt.ylabel(\"Execution Time (s)\")\n",
    "    plt.legend()\n",
    "    plt.show()"
   ]
  },
  {
   "cell_type": "code",
   "execution_count": 35,
   "metadata": {},
   "outputs": [],
   "source": [
    "# graph exec time vs. tuning time in log file (--results-log-details)\n",
    "def graph_tuning(log_name, mesh2d=0.0, mesh3d=0.0, torus2d=0.0, torus3d=0.0, axis=\"time\", last=0):\n",
    "    data = pd.read_csv(log_name, sep=\" \", names=[\"wallclock\", \"exectime\"])\n",
    "    best_times = []\n",
    "    best_time = data[\"exectime\"][0]\n",
    "    best_times.append(best_time)\n",
    "    worst_time = 0.0\n",
    "    for i in range(1, len(data[\"exectime\"])):\n",
    "        if data[\"exectime\"][i] < best_time:\n",
    "            best_time = data[\"exectime\"][i]\n",
    "        best_times.append(best_time)\n",
    "    if mesh2d > 0.0:\n",
    "        plt.axhline(y=mesh2d, xmin=0, xmax=1, linestyle='-', linewidth=1, color='red', label='2dmesh')\n",
    "    if mesh3d > 0.0:\n",
    "        plt.axhline(y=mesh3d, xmin=0, xmax=1, linestyle='-', linewidth=1, color='blue', label='3dmesh')  \n",
    "    if torus2d > 0.0:\n",
    "        plt.axhline(y=torus2d, xmin=0, xmax=1, linestyle='-', linewidth=1, color='green', label='2dtorus')   \n",
    "    if torus3d > 0.0:\n",
    "        plt.axhline(y=torus3d, xmin=0, xmax=1, linestyle='-', linewidth=1, color='brown', label='3dtorus')     \n",
    "    max_time = max(data[\"exectime\"][0], mesh2d, mesh3d, torus2d, torus3d)\n",
    "    min_time = min(best_time, mesh2d, mesh3d, torus2d, torus3d)\n",
    "    if min_time == 0:\n",
    "        min_time = best_time\n",
    "    ax = plt.gca()\n",
    "    ax.spines['left'].set_color('black')\n",
    "    ax.spines['left'].set_linewidth(1)\n",
    "    ax.spines['right'].set_color('black')\n",
    "    ax.spines['right'].set_linewidth(1)\n",
    "    ax.spines['top'].set_color('black')\n",
    "    ax.spines['top'].set_linewidth(1)\n",
    "    ax.spines['bottom'].set_color('black')\n",
    "    ax.spines['bottom'].set_linewidth(1)\n",
    "    if last > 0:\n",
    "        plt.xlim((0, last))\n",
    "    if axis == \"id\":\n",
    "        plt.plot(range(1, len(data)+1), best_times, '^-', label='tuned', color='black', linewidth=1, markersize=8)\n",
    "        plt.xlabel(\"Number of Tests\")\n",
    "    else:\n",
    "        plt.plot(data[\"wallclock\"], best_times, '^-', label='tuned', color='black', linewidth=1, markersize=8)\n",
    "        plt.xlabel(\"Tuning Time (s)\")\n",
    "    plt.ylabel(\"Execution Time (s)\")\n",
    "    plt.ylim(top=max_time+(max_time-min_time)*0.4, bottom=min_time-(max_time-min_time)*0.2)\n",
    "    plt.tick_params(top=True, bottom=True, left=True, right=True, direction='in')\n",
    "    plt.tick_params(which='major', length=4)\n",
    "    plt.grid(False)\n",
    "    plt.legend(frameon=False, fontsize=12, loc='upper right', ncol=3)\n",
    "    # plt.savefig(log_name+'.eps', bbox_inches='tight', transparent=True)\n",
    "    plt.show()"
   ]
  },
  {
   "cell_type": "code",
   "execution_count": 36,
   "metadata": {},
   "outputs": [],
   "source": [
    "from matplotlib.ticker import PercentFormatter\n",
    "# percentage of tuning tests required to get close to the optimal execution time within the tuning period\n",
    "def graph_tests(**logs): #dict logs={AAA:\"xxx\", BBB:\"yyy\", CCC:\"zzz\"}\n",
    "    C1 = []\n",
    "    C2 = []\n",
    "    C3 = []\n",
    "    for appname, logname in logs.items():\n",
    "        data = pd.read_csv(logname, sep=\" \", names=[\"wallclock\", \"exectime\"])\n",
    "        tmin = min(data[\"exectime\"])\n",
    "        ntests = len(data[\"exectime\"])\n",
    "        R1 = 0.0\n",
    "        R2 = 0.0\n",
    "        R3 = 0.0\n",
    "        for i in range(ntests):\n",
    "            if R1 == 0.0 and 1 - (data[\"exectime\"][i] - tmin)/tmin > 0.7:\n",
    "                R1 = (i+1)/ntests\n",
    "            if R2 == 0.0 and 1 - (data[\"exectime\"][i] - tmin)/tmin > 0.8:\n",
    "                R2 = (i+1)/ntests\n",
    "            if R3 == 0.0 and 1 - (data[\"exectime\"][i] - tmin)/tmin > 0.9:\n",
    "                R3 = (i+1)/ntests\n",
    "                break\n",
    "        C1.append(R1)\n",
    "        C2.append(R2)\n",
    "        C3.append(R3)\n",
    "    # plot data in grouped manner of bar type\n",
    "    x = np.arange(len(logs)) # different from range(), can subtract -\n",
    "    width = 0.3\n",
    "    plt.bar(x-width, C1, width, color='cyan')\n",
    "    plt.bar(x, C2, width, color='orange')\n",
    "    plt.bar(x+width, C3, width, color='green')\n",
    "    for a, b in list(zip(x-width, C1)) + list(zip(x, C2)) + list(zip(x+width, C3)):\n",
    "        plt.text(a, b, '%.0f%%'%(b*100), ha=\"center\", va=\"bottom\", fontsize=8)\n",
    "    plt.xticks(x, list(logs.keys()))\n",
    "    plt.xlabel(\"Applications\")\n",
    "    plt.ylabel(\"Percentage of Tests\")\n",
    "    plt.legend([\"C = 70%\", \"C = 80%\", \"C = 90%\"])\n",
    "    ax = plt.gca()\n",
    "    ax.spines['left'].set_color('black')\n",
    "    ax.spines['left'].set_linewidth(1)\n",
    "    ax.spines['right'].set_color('black')\n",
    "    ax.spines['right'].set_linewidth(1)\n",
    "    ax.spines['top'].set_color('black')\n",
    "    ax.spines['top'].set_linewidth(1)\n",
    "    ax.spines['bottom'].set_color('black')\n",
    "    ax.spines['bottom'].set_linewidth(1)\n",
    "    ax.yaxis.set_major_formatter(PercentFormatter(xmax=1.0, decimals=0))\n",
    "    # plt.savefig('tests.eps', bbox_inches='tight', transparent=True)\n",
    "    plt.show()\n",
    "\n",
    "# graph_tests(CG=\"cg.A.64.log\", MG=\"mg.A.64.log\", FT=\"ft.A.64.log\", MM=\"gemm.64.log\", Graph500=\"graph500.64.log\")"
   ]
  },
  {
   "cell_type": "code",
   "execution_count": 37,
   "metadata": {},
   "outputs": [],
   "source": [
    "# speedup within the tuning period\n",
    "def graph_speedup(**logs): #dict logs={AAA:\"xxx\", BBB:\"yyy\", CCC:\"zzz\"}\n",
    "    S = []\n",
    "    for appname, logname in logs.items():\n",
    "        data = pd.read_csv(logname, sep=\" \", names=[\"wallclock\", \"exectime\"])\n",
    "        tmin = min(data[\"exectime\"])\n",
    "        tini = data[\"exectime\"][0]\n",
    "        speedup = (tini-tmin)/tini\n",
    "        S.append(speedup)\n",
    "    S.append(np.mean(S))\n",
    "    # plot data in grouped manner of bar type\n",
    "    x = np.arange(len(logs)+1) # different from range(), can subtract -\n",
    "    width = 0.8\n",
    "    plt.bar(x, S, width, color='steelblue')\n",
    "    for a, b in zip(x, S):\n",
    "        plt.text(a, b, '%.1f%%'%(b*100), ha=\"center\", va=\"bottom\", fontsize=12)\n",
    "    appnames = list(logs.keys())\n",
    "    appnames.append(\"Avg\")\n",
    "    plt.xticks(x, appnames)\n",
    "    plt.xlabel(\"Applications\")\n",
    "    plt.ylabel(\"Speedup\")\n",
    "    ax = plt.gca()\n",
    "    ax.spines['left'].set_color('black')\n",
    "    ax.spines['left'].set_linewidth(1)\n",
    "    ax.spines['right'].set_color('black')\n",
    "    ax.spines['right'].set_linewidth(1)\n",
    "    ax.spines['top'].set_color('black')\n",
    "    ax.spines['top'].set_linewidth(1)\n",
    "    ax.spines['bottom'].set_color('black')\n",
    "    ax.spines['bottom'].set_linewidth(1)\n",
    "    ax.yaxis.set_major_formatter(PercentFormatter(xmax=1.0, decimals=0))\n",
    "    plt.ylim(top=0.7)\n",
    "    # plt.savefig('speedup.eps', bbox_inches='tight', transparent=True)\n",
    "    plt.show()        \n",
    "\n",
    "# graph_speedup(CG=\"cg.A.64.log\", MG=\"mg.A.64.log\", FT=\"ft.A.64.log\", MM=\"gemm.64.log\", Graph500=\"graph500.64.log\")"
   ]
  },
  {
   "cell_type": "markdown",
   "metadata": {},
   "source": [
    "# result of BT"
   ]
  },
  {
   "cell_type": "markdown",
   "metadata": {},
   "source": [
    "# result of CG"
   ]
  },
  {
   "cell_type": "markdown",
   "metadata": {},
   "source": [
    "# result of LU"
   ]
  },
  {
   "cell_type": "markdown",
   "metadata": {},
   "source": [
    "# result of MG"
   ]
  },
  {
   "cell_type": "markdown",
   "metadata": {},
   "source": [
    "# result of SP"
   ]
  },
  {
   "cell_type": "markdown",
   "metadata": {},
   "source": [
    "# result of FT"
   ]
  },
  {
   "cell_type": "markdown",
   "metadata": {},
   "source": [
    "# result of MM"
   ]
  },
  {
   "cell_type": "code",
   "execution_count": 38,
   "metadata": {},
   "outputs": [],
   "source": [
    "# graph_tuning(\"mm8.log\")"
   ]
  },
  {
   "cell_type": "code",
   "execution_count": 39,
   "metadata": {},
   "outputs": [],
   "source": [
    "# graph_tuning(\"mm16.log\")"
   ]
  },
  {
   "cell_type": "markdown",
   "metadata": {},
   "source": [
    "# Graph500 (64 8)"
   ]
  },
  {
   "cell_type": "code",
   "execution_count": 40,
   "metadata": {},
   "outputs": [],
   "source": [
    "# graph_tuning(\"graph50016.log\")"
   ]
  },
  {
   "cell_type": "markdown",
   "metadata": {},
   "source": [
    "# Himeno (S)"
   ]
  },
  {
   "cell_type": "code",
   "execution_count": 41,
   "metadata": {},
   "outputs": [],
   "source": [
    "# graph_tuning(\"himeno8.log\")"
   ]
  },
  {
   "cell_type": "markdown",
   "metadata": {},
   "source": [
    "# K-means"
   ]
  },
  {
   "cell_type": "code",
   "execution_count": 42,
   "metadata": {},
   "outputs": [],
   "source": [
    "# graph_tuning(\"kmeans16.log\")"
   ]
  },
  {
   "cell_type": "markdown",
   "metadata": {},
   "source": [
    "# HPL"
   ]
  },
  {
   "cell_type": "code",
   "execution_count": 43,
   "metadata": {},
   "outputs": [
    {
     "data": {
      "image/png": "[encoded data removed]",
      "text/plain": [
       "<Figure size 432x288 with 1 Axes>"
      ]
     },
     "metadata": {},
     "output_type": "display_data"
    }
   ],
   "source": [
    "graph_tuning(\"hpl8.log\")"
   ]
  },
  {
   "cell_type": "code",
   "execution_count": 44,
   "metadata": {},
   "outputs": [
    {
     "data": {
      "image/png": "[encoded data removed]",
      "text/plain": [
       "<Figure size 432x288 with 1 Axes>"
      ]
     },
     "metadata": {},
     "output_type": "display_data"
    }
   ],
   "source": [
    "graph_tuning(\"hpl8.log\", last=600)"
   ]
  }
 ],
 "metadata": {
  "interpreter": {
   "hash": "31e6c5c79e5805a0c115eefd20e01db841235392825680cc7179dc8df6146eb6"
  },
  "kernelspec": {
   "display_name": "Python 3.9.7 64-bit ('base': conda)",
   "language": "python",
   "name": "python3"
  },
  "language_info": {
   "codemirror_mode": {
    "name": "ipython",
    "version": 3
   },
   "file_extension": ".py",
   "mimetype": "text/x-python",
   "name": "python",
   "nbconvert_exporter": "python",
   "pygments_lexer": "ipython3",
   "version": "3.8.5"
  },
  "orig_nbformat": 4
 },
 "nbformat": 4,
 "nbformat_minor": 2
}
