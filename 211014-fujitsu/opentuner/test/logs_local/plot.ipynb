{
 "cells": [
  {
   "cell_type": "markdown",
   "metadata": {},
   "source": [
    "# script to graph opentuner log"
   ]
  },
  {
   "cell_type": "code",
   "execution_count": 18,
   "metadata": {},
   "outputs": [],
   "source": [
    "import matplotlib.pyplot as plt\n",
    "from matplotlib import style\n",
    "style.use('fivethirtyeight')\n",
    "import pandas as pd\n",
    "\n",
    "# graph exec time vs. time in log file (--results-log-details)\n",
    "def graph_log(log_name):\n",
    "    data = pd.read_csv(log_name, sep=\" \", names=[\"wallclock\", \"exectime\"])\n",
    "    plt.plot(data[\"wallclock\"], data[\"exectime\"], '-+', label='tuned', linewidth=1)\n",
    "    plt.xlabel(\"Tuning Time (s)\")\n",
    "    plt.ylabel(\"Execution Time (s)\")\n",
    "    plt.legend()\n",
    "    plt.show()"
   ]
  },
  {
   "cell_type": "code",
   "execution_count": 19,
   "metadata": {},
   "outputs": [],
   "source": [
    "# graph exec time vs. tuning time in log file (--results-log-details)\n",
    "def graph_tuning(log_name, mesh2d=0.0, mesh3d=0.0, torus2d=0.0, torus3d=0.0, axis=\"time\", last=0):\n",
    "    data = pd.read_csv(log_name, sep=\" \", names=[\"wallclock\", \"exectime\"])\n",
    "    best_times = []\n",
    "    best_time = data[\"exectime\"][0]\n",
    "    best_times.append(best_time)\n",
    "    worst_time = 0.0\n",
    "    for i in range(1, len(data[\"exectime\"])):\n",
    "        if data[\"exectime\"][i] < best_time:\n",
    "            best_time = data[\"exectime\"][i]\n",
    "        best_times.append(best_time)\n",
    "    if mesh2d > 0.0:\n",
    "        plt.axhline(y=mesh2d, xmin=0, xmax=1, linestyle='-', linewidth=1, color='red', label='2dmesh')\n",
    "    if mesh3d > 0.0:\n",
    "        plt.axhline(y=mesh3d, xmin=0, xmax=1, linestyle='-', linewidth=1, color='blue', label='3dmesh')  \n",
    "    if torus2d > 0.0:\n",
    "        plt.axhline(y=torus2d, xmin=0, xmax=1, linestyle='-', linewidth=1, color='green', label='2dtorus')   \n",
    "    if torus3d > 0.0:\n",
    "        plt.axhline(y=torus3d, xmin=0, xmax=1, linestyle='-', linewidth=1, color='brown', label='3dtorus')     \n",
    "    max_time = max(data[\"exectime\"][0], mesh2d, mesh3d, torus2d, torus3d)\n",
    "    min_time = min(best_time, mesh2d, mesh3d, torus2d, torus3d)\n",
    "    ax = plt.gca()\n",
    "    ax.spines['left'].set_color('black')\n",
    "    ax.spines['left'].set_linewidth(1)\n",
    "    ax.spines['right'].set_color('black')\n",
    "    ax.spines['right'].set_linewidth(1)\n",
    "    ax.spines['top'].set_color('black')\n",
    "    ax.spines['top'].set_linewidth(1)\n",
    "    ax.spines['bottom'].set_color('black')\n",
    "    ax.spines['bottom'].set_linewidth(1)\n",
    "    if last > 0:\n",
    "        plt.xlim((0, last))\n",
    "    if axis == \"id\":\n",
    "        plt.plot(range(1, len(data)+1), best_times, '^-', label='tuned', color='black', linewidth=1, markersize=8)\n",
    "        plt.xlabel(\"ID\")\n",
    "    else:\n",
    "        plt.plot(data[\"wallclock\"], best_times, '^-', label='tuned', color='black', linewidth=1, markersize=8)\n",
    "        plt.xlabel(\"Tuning Time (s)\")\n",
    "    plt.ylabel(\"Execution Time (s)\")\n",
    "    plt.ylim(top=max_time+(max_time-min_time)*0.4, bottom=min_time*0.8)\n",
    "    plt.tick_params(top=True, bottom=True, left=True, right=True, direction='in')\n",
    "    plt.tick_params(which='major', length=4)\n",
    "    plt.grid(False)\n",
    "    plt.legend(frameon=False, fontsize=12, loc='upper right', ncol=3)\n",
    "    # plt.savefig(log_name+'.png', bbox_inches='tight', transparent=True)\n",
    "    plt.show()"
   ]
  },
  {
   "cell_type": "markdown",
   "metadata": {},
   "source": [
    "# result of BT"
   ]
  },
  {
   "cell_type": "code",
   "execution_count": 20,
   "metadata": {},
   "outputs": [],
   "source": [
    "# graph_tuning(\"bt.A.64.log\", mesh2d=0.474705, mesh3d=0.32487, torus2d=0.110071, torus3d=0.191158)"
   ]
  },
  {
   "cell_type": "markdown",
   "metadata": {},
   "source": [
    "# result of CG"
   ]
  },
  {
   "cell_type": "code",
   "execution_count": 21,
   "metadata": {},
   "outputs": [
    {
     "data": {
      "image/png": "[encoded data removed]",
      "text/plain": [
       "<Figure size 432x288 with 1 Axes>"
      ]
     },
     "metadata": {},
     "output_type": "display_data"
    }
   ],
   "source": [
    "graph_tuning(\"cg.A.64.log\", mesh2d=0.141583, mesh3d=0.10114, torus2d=0.116572, torus3d=0.0901337, axis=\"id\")"
   ]
  },
  {
   "cell_type": "markdown",
   "metadata": {},
   "source": [
    "# result of LU"
   ]
  },
  {
   "cell_type": "markdown",
   "metadata": {},
   "source": [
    "# result of MG"
   ]
  },
  {
   "cell_type": "code",
   "execution_count": 22,
   "metadata": {},
   "outputs": [],
   "source": [
    "# graph_tuning(\"mg.A.64.log\", mesh2d=0.0230132, mesh3d=0.0177169, torus2d=0.0166326, torus3d=0.0110109)"
   ]
  },
  {
   "cell_type": "code",
   "execution_count": 23,
   "metadata": {},
   "outputs": [],
   "source": [
    "# graph_tuning(\"mg.A.64.3600.log\", mesh2d=0.0230132, mesh3d=0.0177169, torus2d=0.0166326, torus3d=0.0110109)"
   ]
  },
  {
   "cell_type": "markdown",
   "metadata": {},
   "source": [
    "# result of SP"
   ]
  },
  {
   "cell_type": "code",
   "execution_count": 24,
   "metadata": {},
   "outputs": [],
   "source": [
    "# graph_tuning(\"sp.A.64.log\", mesh2d=0.812781, mesh3d=0.564094, torus2d=0.192574, torus3d=0.334719)"
   ]
  },
  {
   "cell_type": "markdown",
   "metadata": {},
   "source": [
    "# result of FT"
   ]
  },
  {
   "cell_type": "code",
   "execution_count": 25,
   "metadata": {},
   "outputs": [],
   "source": [
    "# graph_log(\"ft.A.64.log\")"
   ]
  },
  {
   "cell_type": "code",
   "execution_count": 26,
   "metadata": {},
   "outputs": [],
   "source": [
    "# graph_tuning(\"ft.A.64.log\", mesh2d=0.0421358, mesh3d=0.0283606, torus2d=0.0216406, torus3d=0.0186732)"
   ]
  },
  {
   "cell_type": "markdown",
   "metadata": {},
   "source": [
    "# result of MM (-K 4096 -B 64)"
   ]
  },
  {
   "cell_type": "code",
   "execution_count": 27,
   "metadata": {},
   "outputs": [],
   "source": [
    "# graph_tuning(\"mm.64.log\", mesh2d=0.0305389, mesh3d=0.0225248, torus2d=0.0223532, torus3d=0.0193511)"
   ]
  },
  {
   "cell_type": "markdown",
   "metadata": {},
   "source": [
    "# Graph500 (64 8)"
   ]
  },
  {
   "cell_type": "code",
   "execution_count": 28,
   "metadata": {},
   "outputs": [],
   "source": [
    "# graph_tuning(\"graph500.64.3600.log\", mesh2d=2.55341, mesh3d=2.48414, torus2d=2.66482, torus3d=2.78923, last=2000)"
   ]
  },
  {
   "cell_type": "code",
   "execution_count": 29,
   "metadata": {},
   "outputs": [],
   "source": [
    "# graph_tuning(\"graph500.64.3600.log\", mesh2d=2.55341, mesh3d=2.48414, torus2d=2.66482, torus3d=2.78923, axis=\"id\", last=40)"
   ]
  },
  {
   "cell_type": "markdown",
   "metadata": {},
   "source": [
    "# Himeno (S)"
   ]
  },
  {
   "cell_type": "code",
   "execution_count": 30,
   "metadata": {},
   "outputs": [],
   "source": [
    "# graph_tuning(\"himeno.64.log\", mesh2d=0.187648, mesh3d=0.138043, torus2d=0.142489, torus3d=0.107125)"
   ]
  }
 ],
 "metadata": {
  "interpreter": {
   "hash": "31e6c5c79e5805a0c115eefd20e01db841235392825680cc7179dc8df6146eb6"
  },
  "kernelspec": {
   "display_name": "Python 3.9.7 64-bit ('base': conda)",
   "language": "python",
   "name": "python3"
  },
  "language_info": {
   "codemirror_mode": {
    "name": "ipython",
    "version": 3
   },
   "file_extension": ".py",
   "mimetype": "text/x-python",
   "name": "python",
   "nbconvert_exporter": "python",
   "pygments_lexer": "ipython3",
   "version": "3.8.5"
  },
  "orig_nbformat": 4
 },
 "nbformat": 4,
 "nbformat_minor": 2
}
