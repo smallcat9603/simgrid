{
 "cells": [
  {
   "cell_type": "markdown",
   "metadata": {},
   "source": [
    "# script to graph opentuner database "
   ]
  },
  {
   "cell_type": "code",
   "execution_count": null,
   "metadata": {},
   "outputs": [],
   "source": [
    "import sqlite3\n",
    "import matplotlib.pyplot as plt\n",
    "from matplotlib import style\n",
    "style.use('fivethirtyeight')\n",
    "from matplotlib.ticker import MaxNLocator\n",
    "import os.path\n",
    "from dateutil.parser import parse\n",
    "\n",
    "def graph_data(db_name):\n",
    "    BASE_DIR = os.path.abspath('') # os.path.dirname(__file__) NOT ok with .ipynb\n",
    "    db_path = os.path.join(BASE_DIR, db_name)\n",
    "    dbase = sqlite3.connect(db_path)\n",
    "    cursor = dbase.cursor()\n",
    "    cursor.execute(''' \n",
    "    SELECT id, time FROM result \n",
    "    ''')\n",
    "    data = cursor.fetchall()\n",
    "    ids = []\n",
    "    times = []\n",
    "    for row in data:\n",
    "        ids.append(row[0])\n",
    "        times.append(row[1])\n",
    "    plt.gca().xaxis.set_major_locator(MaxNLocator(integer=True))\n",
    "    plt.plot(ids, times, '-+', label='exec. time', linewidth=1)\n",
    "    plt.xlabel(\"ID\")\n",
    "    plt.ylabel(\"Time\")\n",
    "    plt.show()\n",
    "    dbase.close()"
   ]
  },
  {
   "cell_type": "code",
   "execution_count": null,
   "metadata": {},
   "outputs": [],
   "source": [
    "def graph_tuning(db_name):\n",
    "    BASE_DIR = os.path.abspath('') # os.path.dirname(__file__) NOT ok with .ipynb\n",
    "    db_path = os.path.join(BASE_DIR, db_name)\n",
    "    dbase = sqlite3.connect(db_path)\n",
    "    cursor = dbase.cursor()\n",
    "    cursor.execute(''' \n",
    "    SELECT collection_date, time, was_new_best FROM result \n",
    "    ''')\n",
    "    data = cursor.fetchall()\n",
    "    tuning_times = []\n",
    "    simulated_times = []\n",
    "    flags = []\n",
    "    base_date = parse(data[0][0])\n",
    "    base_simulated_time = data[0][1]\n",
    "    for row in data:\n",
    "        diff = parse(row[0]) - base_date\n",
    "        tuning_times.append(diff.seconds)\n",
    "        if row[2] == 1:\n",
    "            simulated_times.append(row[1])\n",
    "            base_simulated_time = row[1]\n",
    "        else:\n",
    "            simulated_times.append(base_simulated_time)\n",
    "    plt.gca().xaxis.set_major_locator(MaxNLocator(integer=True))\n",
    "    plt.plot(tuning_times, simulated_times, '+', label='exec. time', linewidth=1)\n",
    "    plt.xlabel(\"Tuning Time (s)\")\n",
    "    plt.ylabel(\"Execution Time (s)\")\n",
    "    plt.show()\n",
    "    dbase.close()"
   ]
  },
  {
   "cell_type": "markdown",
   "metadata": {},
   "source": [
    "# result of BT"
   ]
  },
  {
   "cell_type": "code",
   "execution_count": null,
   "metadata": {},
   "outputs": [],
   "source": [
    "graph_data(\"calc5.bt.A.64.db\")"
   ]
  },
  {
   "cell_type": "markdown",
   "metadata": {},
   "source": [
    "# result of CG"
   ]
  },
  {
   "cell_type": "code",
   "execution_count": null,
   "metadata": {},
   "outputs": [],
   "source": [
    "graph_data(\"calc5.cg.A.64.db\")"
   ]
  },
  {
   "cell_type": "markdown",
   "metadata": {},
   "source": [
    "# result of LU"
   ]
  },
  {
   "cell_type": "code",
   "execution_count": null,
   "metadata": {},
   "outputs": [],
   "source": [
    "graph_data(\"calc5.lu.A.64.db\")"
   ]
  },
  {
   "cell_type": "markdown",
   "metadata": {},
   "source": [
    "# result of MG"
   ]
  },
  {
   "cell_type": "code",
   "execution_count": null,
   "metadata": {},
   "outputs": [],
   "source": [
    "graph_data(\"calc5.mg.A.64.db\")"
   ]
  },
  {
   "cell_type": "markdown",
   "metadata": {},
   "source": [
    "# result of SP"
   ]
  },
  {
   "cell_type": "code",
   "execution_count": null,
   "metadata": {},
   "outputs": [],
   "source": [
    "graph_data(\"calc5.sp.A.64.db\")"
   ]
  },
  {
   "cell_type": "markdown",
   "metadata": {},
   "source": [
    "# result of CG (time vs. ID)"
   ]
  },
  {
   "cell_type": "code",
   "execution_count": null,
   "metadata": {},
   "outputs": [],
   "source": [
    "graph_data(\"result.db\")"
   ]
  },
  {
   "cell_type": "markdown",
   "metadata": {},
   "source": [
    "# result of CG (exec. time vs. tuning time)"
   ]
  },
  {
   "cell_type": "code",
   "execution_count": null,
   "metadata": {},
   "outputs": [],
   "source": [
    "graph_tuning(\"result.db\")"
   ]
  }
 ],
 "metadata": {
  "interpreter": {
   "hash": "31e6c5c79e5805a0c115eefd20e01db841235392825680cc7179dc8df6146eb6"
  },
  "kernelspec": {
   "display_name": "Python 3.9.7 64-bit ('base': conda)",
   "language": "python",
   "name": "python3"
  },
  "language_info": {
   "codemirror_mode": {
    "name": "ipython",
    "version": 3
   },
   "file_extension": ".py",
   "mimetype": "text/x-python",
   "name": "python",
   "nbconvert_exporter": "python",
   "pygments_lexer": "ipython3",
   "version": "3.9.7"
  },
  "orig_nbformat": 4
 },
 "nbformat": 4,
 "nbformat_minor": 2
}
